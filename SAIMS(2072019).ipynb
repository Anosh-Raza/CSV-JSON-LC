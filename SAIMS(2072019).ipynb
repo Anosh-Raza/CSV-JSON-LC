{
 "cells": [
  {
   "cell_type": "markdown",
   "metadata": {},
   "source": [
    "# CSV FILE"
   ]
  },
  {
   "cell_type": "code",
   "execution_count": 25,
   "metadata": {},
   "outputs": [],
   "source": [
    "import csv"
   ]
  },
  {
   "cell_type": "code",
   "execution_count": 28,
   "metadata": {},
   "outputs": [
    {
     "name": "stdout",
     "output_type": "stream",
     "text": [
      "<_csv.reader object at 0x00000273B77462B8>\n"
     ]
    }
   ],
   "source": [
    "with open('abc.csv') as f:\n",
    "    x = csv.reader(f)\n",
    "    print(x)"
   ]
  },
  {
   "cell_type": "code",
   "execution_count": 29,
   "metadata": {},
   "outputs": [
    {
     "name": "stdout",
     "output_type": "stream",
     "text": [
      "[['name', 'email', 'class'], ['Ali', 'ali@gmail.com', 'PIAIC-AI'], ['Jamil', 'ali@gmail.com', 'PIAIC-AI'], ['Jamal', 'ali@gmail.com', 'PIAIC-AI']]\n"
     ]
    }
   ],
   "source": [
    "with open('abc.csv') as f:\n",
    "    x = csv.reader(f)\n",
    "    y = []\n",
    "    for i in x:\n",
    "        y.append(i)\n",
    "print(y)"
   ]
  },
  {
   "cell_type": "code",
   "execution_count": 38,
   "metadata": {},
   "outputs": [],
   "source": [
    "with open(\"whatever.csv\",\"w\",newline=\"\") as f:\n",
    "    data_handler = csv.writer(f, delimiter = \",\")\n",
    "    data_handler.writerow([\"year\",\"event\",\"winner\"])\n",
    "    data_handler.writerow([\"1995\",\"best-kept lawn\",\"none\"])\n",
    "    data_handler.writerow([\"1999\",\"gobstone\",\"welch national\"])\n",
    "    data_handler.writerow([\"2003\",\"usa\",\"fifaw\"])\n",
    "    data_handler.writerow([\"2007\",\"NZ\",\"cose\"])\n",
    "    data_handler.writerow([\"2012\",\"CROTIA\",\"chorus\"])\n",
    "    data_handler.writerow([\"2016\",\"ENGLAND\",\"POCS\"])\n",
    "    data_handler.writerow([\"2019\",\"pak\",\"khi\"])"
   ]
  },
  {
   "cell_type": "markdown",
   "metadata": {},
   "source": [
    "# JSON File"
   ]
  },
  {
   "cell_type": "code",
   "execution_count": 39,
   "metadata": {},
   "outputs": [],
   "source": [
    "#javascript  "
   ]
  },
  {
   "cell_type": "code",
   "execution_count": 40,
   "metadata": {},
   "outputs": [],
   "source": [
    "import json"
   ]
  },
  {
   "cell_type": "code",
   "execution_count": 45,
   "metadata": {},
   "outputs": [],
   "source": [
    "alphabet_letters = [ 'ali' , 'raza' , 'noor' ]\n",
    "with open(\"alphabet_list.json\",'w') as f:\n",
    "    json.dump(alphabet_letters, f)"
   ]
  },
  {
   "cell_type": "code",
   "execution_count": 46,
   "metadata": {
    "scrolled": true
   },
   "outputs": [
    {
     "name": "stdout",
     "output_type": "stream",
     "text": [
      "['ali', 'raza', 'noor']\n",
      "ali\n",
      "raza\n",
      "noor\n"
     ]
    }
   ],
   "source": [
    "with open(\"alphabet_list.json\") as f:\n",
    "    x = json.load(f)\n",
    "    print(x)\n",
    "    for i in x:\n",
    "        print(i)"
   ]
  },
  {
   "cell_type": "code",
   "execution_count": 49,
   "metadata": {},
   "outputs": [],
   "source": [
    "import json"
   ]
  },
  {
   "cell_type": "code",
   "execution_count": 51,
   "metadata": {},
   "outputs": [],
   "source": [
    "new1 = {\"first name:\":\"anosh\",\"last name:\":\"raza\",\"uni:\":\"uit\"}"
   ]
  },
  {
   "cell_type": "code",
   "execution_count": 52,
   "metadata": {},
   "outputs": [],
   "source": [
    "with open(\"new.json\",\"w\") as f:\n",
    "    json.dump(new1,f)"
   ]
  },
  {
   "cell_type": "code",
   "execution_count": 55,
   "metadata": {},
   "outputs": [
    {
     "name": "stdout",
     "output_type": "stream",
     "text": [
      "{'first name:': 'anosh', 'last name:': 'raza', 'uni:': 'uit'}\n",
      "first name: anosh\n",
      "last name: raza\n",
      "uni: uit\n"
     ]
    }
   ],
   "source": [
    "with open(\"new.json\") as f:\n",
    "    x = json.load(f)\n",
    "    print(x)\n",
    "    for i,j in x.items():\n",
    "        print(i,j)"
   ]
  },
  {
   "cell_type": "code",
   "execution_count": 57,
   "metadata": {},
   "outputs": [
    {
     "name": "stdout",
     "output_type": "stream",
     "text": [
      "Serial No:1\n",
      "Enter name: anosh\n",
      "Enter age:20\n",
      "Enter address:PIAIC\n",
      "Data posted\n",
      "Serial No:no\n",
      "Data posted\n"
     ]
    }
   ],
   "source": [
    "import json\n",
    "flag =True\n",
    "while flag:\n",
    "    user  =input(\"Serial No:\")\n",
    "    if user !=\"no\":\n",
    "        data = {\"firstname:\" : input(\"Enter name: \"), \"age\" : int(input(\"Enter age:\")), \"Address\": input(\"Enter address:\")}\n",
    "    else: \n",
    "        flag =False\n",
    "    with open(\"data.json\",\"a\") as f:\n",
    "        json.dump(data, f)\n",
    "    print(\"Data posted\")"
   ]
  },
  {
   "cell_type": "markdown",
   "metadata": {},
   "source": [
    "# LIST COMPREHENSION"
   ]
  },
  {
   "cell_type": "code",
   "execution_count": 58,
   "metadata": {},
   "outputs": [],
   "source": [
    "new_list = [i**2 for i in [1,2,3,4]]"
   ]
  },
  {
   "cell_type": "code",
   "execution_count": 59,
   "metadata": {},
   "outputs": [
    {
     "name": "stdout",
     "output_type": "stream",
     "text": [
      "[1, 4, 9, 16]\n"
     ]
    }
   ],
   "source": [
    "print(new_list)"
   ]
  },
  {
   "cell_type": "code",
   "execution_count": null,
   "metadata": {},
   "outputs": [],
   "source": []
  }
 ],
 "metadata": {
  "kernelspec": {
   "display_name": "Python 3",
   "language": "python",
   "name": "python3"
  },
  "language_info": {
   "codemirror_mode": {
    "name": "ipython",
    "version": 3
   },
   "file_extension": ".py",
   "mimetype": "text/x-python",
   "name": "python",
   "nbconvert_exporter": "python",
   "pygments_lexer": "ipython3",
   "version": "3.7.3"
  }
 },
 "nbformat": 4,
 "nbformat_minor": 2
}
